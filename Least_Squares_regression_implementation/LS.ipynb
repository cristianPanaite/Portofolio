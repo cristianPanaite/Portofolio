{
 "cells": [
  {
   "cell_type": "code",
   "execution_count": 11,
   "id": "incident-threshold",
   "metadata": {},
   "outputs": [
    {
     "name": "stdout",
     "output_type": "stream",
     "text": [
      "Intercept: \n",
      " 3.2948100428017066\n",
      "Coefficients: \n",
      " [1.51160686 2.521292  ]\n",
      "RMSE ERROR: 0.9014604906329932\n"
     ]
    }
   ],
   "source": [
    "#using libraries\n",
    "import pandas as pd\n",
    "from sklearn import linear_model\n",
    "from math import sqrt\n",
    "\n",
    "df = pd.read_csv(\"2019.csv\")\n",
    "\n",
    "trainData = df.head(100)\n",
    "testData = df.tail(56)\n",
    "\n",
    "X = trainData[['GDP per capita','Freedom to make life choices']]\n",
    "Y = trainData['Score']\n",
    "\n",
    "regr = linear_model.LinearRegression()\n",
    "regr.fit(X, Y)\n",
    "\n",
    "print('Intercept: \\n', regr.intercept_)\n",
    "print('Coefficients: \\n', regr.coef_)\n",
    "\n",
    "testData = pd.DataFrame(df.tail(56))\n",
    "\n",
    "squareError = 0\n",
    "\n",
    "\n",
    "dim = len(trainData)\n",
    "for i in range(len(testData)):\n",
    "    gdp = testData.loc[[i + dim]].get(\"GDP per capita\").to_numpy()[0]\n",
    "    happines = testData.loc[[i + dim]].get(\"Freedom to make life choices\").to_numpy()[0]\n",
    "    realScore = testData.loc[[i + dim]].get(\"Score\").to_numpy()[0]\n",
    "    computed = regr.predict([[gdp, happines]])[0]\n",
    "    squareError += (realScore - computed) ** 2\n",
    "    \n",
    "print(\"RMSE ERROR: \" + str(sqrt(squareError/len(testData))))\n",
    "    "
   ]
  },
  {
   "attachments": {
    "d2992f28-3e39-4315-ad6c-722c0e1ac253.png": {
     "image/png": "[encoded data removed]"
    }
   },
   "cell_type": "markdown",
   "id": "unsigned-furniture",
   "metadata": {},
   "source": [
    "![image.png](attachment:d2992f28-3e39-4315-ad6c-722c0e1ac253.png)"
   ]
  },
  {
   "cell_type": "code",
   "execution_count": 12,
   "id": "strange-luther",
   "metadata": {},
   "outputs": [
    {
     "name": "stdout",
     "output_type": "stream",
     "text": [
      "Intercept: \n",
      " 0.08053276293001668\n",
      "Coefficients: \n",
      " [3.1628444371925784, 5.5775207272322875]\n",
      "RMSE ERROR: 1.3516649648048507\n"
     ]
    }
   ],
   "source": [
    "import csv\n",
    "\n",
    "def multiply(X, Y):\n",
    "    return [[sum(a*b for a,b in zip(X_row,Y_col)) for Y_col in zip(*Y)] for X_row in X]\n",
    "\n",
    "def subtitute(X, Y):\n",
    "    return [[X[i][j] - Y[i][j]  for j in range(len(X[0]))] for i in range(len(X))]\n",
    "\n",
    "def transpose(X):\n",
    "    return [[X[j][i] for j in range(len(X))] for i in range(len(X[0]))]\n",
    "\n",
    "\n",
    "def getMatrixMinor(m,i,j):\n",
    "    return [row[:j] + row[j+1:] for row in (m[:i]+m[i+1:])]\n",
    "\n",
    "def getMatrixDeternminant(m):\n",
    "    #base case for 2x2 matrix\n",
    "    if len(m) == 2:\n",
    "        return m[0][0]*m[1][1]-m[0][1]*m[1][0]\n",
    "\n",
    "    determinant = 0\n",
    "    for c in range(len(m)):\n",
    "        determinant += ((-1)**c)*m[0][c]*getMatrixDeternminant(getMatrixMinor(m,0,c))\n",
    "    return determinant\n",
    "\n",
    "def getMatrixInverse(m):\n",
    "    determinant = getMatrixDeternminant(m)\n",
    "    #special case for 2x2 matrix:\n",
    "    if len(m) == 2:\n",
    "        return [[m[1][1]/determinant, -1*m[0][1]/determinant],\n",
    "                [-1*m[1][0]/determinant, m[0][0]/determinant]]\n",
    "\n",
    "    #find matrix of cofactors\n",
    "    cofactors = []\n",
    "    for r in range(len(m)):\n",
    "        cofactorRow = []\n",
    "        for c in range(len(m)):\n",
    "            minor = getMatrixMinor(m,r,c)\n",
    "            cofactorRow.append(((-1)**(r+c)) * getMatrixDeternminant(minor))\n",
    "        cofactors.append(cofactorRow)\n",
    "    cofactors = transpose(cofactors)\n",
    "    for r in range(len(cofactors)):\n",
    "        for c in range(len(cofactors)):\n",
    "            cofactors[r][c] = cofactors[r][c]/determinant\n",
    "    return cofactors\n",
    "\n",
    "def fit(X, Y):\n",
    "    transposeX = transpose(X)\n",
    "    return multiply(multiply(getMatrixInverse(multiply(transposeX, X)), transposeX), Y)\n",
    "\n",
    "def getIntercept(X, Y, W):\n",
    "    return multiply(transpose(subtitute(Y, multiply(X, W))), subtitute(Y, multiply(X, W)))\n",
    "\n",
    "def predict(inp, coef, inter):\n",
    "    return inp[0] * coef[0] + inp[1] * coef[1] + inter\n",
    "\n",
    "data = []\n",
    "\n",
    "with open('2019.csv', newline='') as csvfile:\n",
    "    spamreader = csv.reader(csvfile, delimiter=',')\n",
    "    for row in spamreader:\n",
    "        data.append(row)\n",
    "        \n",
    "data.pop(0)\n",
    "\n",
    "trainData = data[:100]\n",
    "testData = data[100:]\n",
    "\n",
    "inputs = []\n",
    "outputs = []\n",
    "\n",
    "for i in range(len(trainData)):\n",
    "    inputs.append([float(trainData[i][3]), float(trainData[i][6])])\n",
    "    outputs.append([float(trainData[i][2])])\n",
    "\n",
    "coefficients = fit(inputs, outputs)\n",
    "intercept = sqrt(getIntercept(inputs, outputs, coefficients)[0][0])/len(trainData)\n",
    "coefficients = [item for sublist in coefficients for item in sublist]\n",
    "\n",
    "print('Intercept: \\n', intercept)\n",
    "print('Coefficients: \\n', coefficients)\n",
    "\n",
    "squareError = 0\n",
    "               \n",
    "for i in range(len(testData)):\n",
    "    gdp = float(testData[i][3])\n",
    "    happines = float(testData[i][6])\n",
    "    realScore = float(testData[i][2])\n",
    "    computed = predict([gdp, happines], coefficients, intercept)\n",
    "    #print(\"real :\", realScore)\n",
    "    #print(\"computed :\", computed)\n",
    "    squareError += (realScore - computed) ** 2\n",
    "               \n",
    "print(\"RMSE ERROR: \" + str(sqrt(squareError/len(testData))))"
   ]
  }
 ],
 "metadata": {
  "kernelspec": {
   "display_name": "Python 3",
   "language": "python",
   "name": "python3"
  },
  "language_info": {
   "codemirror_mode": {
    "name": "ipython",
    "version": 3
   },
   "file_extension": ".py",
   "mimetype": "text/x-python",
   "name": "python",
   "nbconvert_exporter": "python",
   "pygments_lexer": "ipython3",
   "version": "3.9.2"
  }
 },
 "nbformat": 4,
 "nbformat_minor": 5
}
